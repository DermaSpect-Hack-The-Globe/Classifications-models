{
  "nbformat": 4,
  "nbformat_minor": 0,
  "metadata": {
    "colab": {
      "name": "Untitled0.ipynb",
      "provenance": []
    },
    "kernelspec": {
      "name": "python3",
      "display_name": "Python 3"
    }
  },
  "cells": [
    {
      "cell_type": "code",
      "metadata": {
        "id": "B5c0IZ2tXkFC"
      },
      "source": [
        "import pandas as pd\n",
        "import numpy as np\n",
        "import matplotlib.pyplot as plt\n",
        "import matplotlib.mlab as mlab\n",
        "\n",
        "import tensorflow as tf\n",
        "from skimage import exposure\n",
        "#from tensorflow.contrib.layers import flatten\n",
        "from sklearn.preprocessing import LabelBinarizer\n",
        "from sklearn.preprocessing import StandardScaler\n",
        "from sklearn.model_selection import train_test_split\n",
        "\n",
        "from tensorflow.keras.layers import Flatten\n",
        "\n",
        "from keras.layers.pooling import MaxPooling2D\n",
        "from keras.models import Sequential, Model\n",
        "from keras.layers import Dense, Dropout, Activation, Flatten, Lambda, ELU\n",
        "from keras.layers.convolutional import Convolution2D, Cropping2D\n",
        "from keras.layers.pooling import MaxPooling2D\n",
        "import cv2\n",
        "import glob"
      ],
      "execution_count": 11,
      "outputs": []
    },
    {
      "cell_type": "markdown",
      "metadata": {
        "id": "JKJHiGi37UGX"
      },
      "source": [
        "**DATA AUGMENTATION**"
      ]
    },
    {
      "cell_type": "code",
      "metadata": {
        "colab": {
          "base_uri": "https://localhost:8080/"
        },
        "id": "wRn-ZsCpYMSJ",
        "outputId": "a3001062-c4b8-4d72-9b87-203bf73f4e64"
      },
      "source": [
        "from google.colab import drive\n",
        "drive.mount('/content/drive')"
      ],
      "execution_count": 2,
      "outputs": [
        {
          "output_type": "stream",
          "text": [
            "Mounted at /content/drive\n"
          ],
          "name": "stdout"
        }
      ]
    },
    {
      "cell_type": "code",
      "metadata": {
        "id": "mwaT0KaPuI5I"
      },
      "source": [
        "def rotateImage(img, angle):\n",
        "    (rows, cols, ch) = img.shape\n",
        "    M = cv2.getRotationMatrix2D((cols/2,rows/2), angle, 1)\n",
        "    return cv2.warpAffine(img, M, (cols,rows))\n",
        "    \n",
        "    \n",
        "def loadBlurImg(path, imgSize):\n",
        "    img = cv2.imread(path)\n",
        "    angle = np.random.randint(0, 360)\n",
        "    img = rotateImage(img, angle)\n",
        "    img = cv2.blur(img,(5,5))\n",
        "    img = cv2.resize(img, imgSize)\n",
        "    return img\n",
        "\n",
        "def loadImgClass(classPath, classLable, classSize, imgSize):\n",
        "    x = []\n",
        "    y = []\n",
        "    \n",
        "    for path in classPath:\n",
        "        img = loadBlurImg(path, imgSize)        \n",
        "        x.append(img)\n",
        "        y.append(classLable)\n",
        "        \n",
        "    while len(x) < classSize:\n",
        "        randIdx = np.random.randint(0, len(classPath))\n",
        "        img = loadBlurImg(classPath[randIdx], imgSize)\n",
        "        x.append(img)\n",
        "        y.append(classLable)\n",
        "        \n",
        "    return x, y\n",
        "\n",
        "def loadData(img_size, classSize):\n",
        "    keloids = glob.glob('/content/drive/MyDrive/Hack-the-globe/Keloiods-yes/**/*.jpeg', recursive=True) \n",
        "    notKeloids = glob.glob('/content/drive/MyDrive/Hack-the-globe/Keloids-not/**/*.jpeg', recursive=True)\n",
        "    \n",
        "    \n",
        "    imgSize = (img_size, img_size)\n",
        "    xKeloid, yKeloid = loadImgClass(keloids, 0, classSize, imgSize)\n",
        "    xNotKeloid, yNotKeloid = loadImgClass(notKeloids, 1, classSize, imgSize)\n",
        "    print(\"There are\", len(xKeloid), \"Keloids images\")\n",
        "    print(\"There are\", len(xNotKeloid), \"not Keloids images\")\n",
        "    \n",
        "    X = np.array(xKeloid + xNotKeloid)\n",
        "    y = np.array(yKeloid + yNotKeloid)\n",
        "    \n",
        "    return X, y"
      ],
      "execution_count": 3,
      "outputs": []
    },
    {
      "cell_type": "code",
      "metadata": {
        "id": "fEpFrRFlugdQ"
      },
      "source": [
        "def toGray(images):\n",
        "    # rgb2gray converts RGB values to grayscale values by forming a weighted sum of the R, G, and B components:\n",
        "    # 0.2989 * R + 0.5870 * G + 0.1140 * B \n",
        "    # source: https://www.mathworks.com/help/matlab/ref/rgb2gray.html\n",
        "    \n",
        "    images = 0.2989*images[:,:,:,0] + 0.5870*images[:,:,:,1] + 0.1140*images[:,:,:,2]\n",
        "    return images\n",
        "\n",
        "def normalizeImages(images):\n",
        "    # use Histogram equalization to get a better range\n",
        "    # source http://scikit-image.org/docs/dev/api/skimage.exposure.html#skimage.exposure.equalize_hist\n",
        "    images = (images / 255.).astype(np.float32)\n",
        "    \n",
        "    for i in range(images.shape[0]):\n",
        "        images[i] = exposure.equalize_hist(images[i])\n",
        "    \n",
        "    images = images.reshape(images.shape + (1,)) \n",
        "    return images\n",
        "\n",
        "def preprocessData(images):\n",
        "    grayImages = toGray(images)\n",
        "    return normalizeImages(grayImages)\n",
        "\n",
        "def normalizeImages2(images):\n",
        "    for i in range(images.shape[0]):\n",
        "        cv2.normalize(images[i],images[i], alpha=0, beta=1, norm_type=cv2.NORM_MINMAX, dtype=cv2.CV_32F)\n",
        "    \n",
        "    # if convert to gray scale use this after\n",
        "    print(\"images has shape before\", images.shape)\n",
        "    #images = images.reshape(images.shape + (1,)) \n",
        "    #print(\"images has shape after\", images.shape)\n",
        "    return images"
      ],
      "execution_count": 4,
      "outputs": []
    },
    {
      "cell_type": "code",
      "metadata": {
        "colab": {
          "base_uri": "https://localhost:8080/"
        },
        "id": "roq-22sGulVS",
        "outputId": "78563b1e-d75c-415d-fef4-9619e969646e"
      },
      "source": [
        "size = 128 #image size\n",
        "classSize = 15000 \n",
        "\n",
        "scaled_X, y = loadData(size, classSize)\n",
        "scaled_X = preprocessData(scaled_X)\n",
        "\n",
        "n_classes = len(np.unique(y))\n",
        "\n",
        "from keras.utils.np_utils import to_categorical\n",
        "y = to_categorical(y)"
      ],
      "execution_count": 5,
      "outputs": [
        {
          "output_type": "stream",
          "text": [
            "There are 15000 Keloids images\n",
            "There are 15000 not Keloids images\n"
          ],
          "name": "stdout"
        }
      ]
    },
    {
      "cell_type": "markdown",
      "metadata": {
        "id": "m1KMgg0k652h"
      },
      "source": [
        "**TRAINING & TESTING**"
      ]
    },
    {
      "cell_type": "code",
      "metadata": {
        "colab": {
          "base_uri": "https://localhost:8080/"
        },
        "id": "P5fpWA8e3g1k",
        "outputId": "d0d5d8d7-f2e1-4082-bf21-b1c480a3a290"
      },
      "source": [
        "rand_state = np.random.randint(0, 100)\n",
        "\n",
        "X_train, X_test, y_train, y_test = train_test_split(scaled_X, y, test_size=0.2, random_state=rand_state)\n",
        "\n",
        "print(\"Number of classes =\", n_classes)\n",
        "print(\"train shape X\", X_train.shape)\n",
        "print(\"train shape y\", y_train.shape)"
      ],
      "execution_count": 6,
      "outputs": [
        {
          "output_type": "stream",
          "text": [
            "Number of classes = 2\n",
            "train shape X (24000, 128, 128, 1)\n",
            "train shape y (24000, 2)\n"
          ],
          "name": "stdout"
        }
      ]
    },
    {
      "cell_type": "markdown",
      "metadata": {
        "id": "X5kXeBTt70oG"
      },
      "source": [
        "**NEURAL NETWORK MODEL**"
      ]
    },
    {
      "cell_type": "code",
      "metadata": {
        "id": "sBO_uhVQ58zP"
      },
      "source": [
        "def karasModel(inputShape):\n",
        "    model = Sequential()\n",
        "    model.add(Conv2D(16, 8, 8, subsample=(4, 4),border_mode='valid', input_shape=inputShape))\n",
        "    model.add(MaxPooling2D((2, 2)))\n",
        "    model.add(Dropout(0.5))\n",
        "    model.add(Activation('relu'))\n",
        "\n",
        "    model.add(Conv2D(32, 5, 5))\n",
        "    model.add(MaxPooling2D((2, 2)))\n",
        "    model.add(Dropout(0.5))\n",
        "    model.add(Activation('relu'))\n",
        "\n",
        "    model.add(Conv2D(32, 3, 3))\n",
        "    model.add(MaxPooling2D((2, 2)))\n",
        "    model.add(Dropout(0.5))\n",
        "    model.add(Activation('relu'))\n",
        "\n",
        "    model.add(Flatten())\n",
        "    model.add(Dense(240))\n",
        "\n",
        "    model.add(Activation('relu'))\n",
        "    model.add(Dense(120))\n",
        "\n",
        "    #model.add(Activation('relu'))\n",
        "    model.add(Dense(2))\n",
        "\n",
        "    model.add(Activation('softmax'))\n",
        "    return model \n",
        "\n",
        "def karasModel2(inputShape):\n",
        "    model = Sequential()\n",
        "    #model.add(Conv2D(16, 8, 8, subsample=(4, 4),border_mode='valid', input_shape=inputShape))\n",
        "    model.add(Conv2D(16, 8, 8, padding='valid', input_shape=inputShape))\n",
        "    model.add(ELU())\n",
        "    model.add(Conv2D(32, 5, 5, padding=\"same\"))\n",
        "    model.add(ELU())\n",
        "    model.add(Conv2D(64, 5, 5, padding=\"same\"))\n",
        "    model.add(Flatten())\n",
        "    model.add(Dropout(.2))\n",
        "    model.add(ELU())\n",
        "    model.add(Dense(512))\n",
        "    model.add(Dropout(.5))\n",
        "    model.add(ELU())\n",
        "    model.add(Dense(2))\n",
        "    model.add(Activation('softmax'))\n",
        "    return model"
      ],
      "execution_count": 12,
      "outputs": []
    },
    {
      "cell_type": "code",
      "metadata": {
        "colab": {
          "base_uri": "https://localhost:8080/"
        },
        "id": "3MTOSUA-6Aby",
        "outputId": "0733899c-6d03-4f55-b800-a56570eadc8d"
      },
      "source": [
        "from keras.layers.convolutional import Conv2D\n",
        "\n",
        "inputShape = (size, size, 1)\n",
        "model = karasModel2(inputShape)\n",
        "\n",
        "\n",
        "model.compile('adam', 'categorical_crossentropy', ['accuracy'])\n",
        "history = model.fit(X_train, y_train, epochs=50, validation_split=0.1) \n",
        "\n",
        "\n",
        "metrics = model.evaluate(X_test, y_test)\n",
        "for metric_i in range(len(model.metrics_names)):\n",
        "    metric_name = model.metrics_names[metric_i]\n",
        "    metric_value = metrics[metric_i]\n",
        "    print('{}: {}'.format(metric_name, metric_value))"
      ],
      "execution_count": 13,
      "outputs": [
        {
          "output_type": "stream",
          "text": [
            "Epoch 1/50\n",
            "675/675 [==============================] - 12s 16ms/step - loss: 0.6541 - accuracy: 0.6123 - val_loss: 0.5989 - val_accuracy: 0.6946\n",
            "Epoch 2/50\n",
            "675/675 [==============================] - 9s 14ms/step - loss: 0.5722 - accuracy: 0.7079 - val_loss: 0.5418 - val_accuracy: 0.7379\n",
            "Epoch 3/50\n",
            "675/675 [==============================] - 9s 14ms/step - loss: 0.5195 - accuracy: 0.7441 - val_loss: 0.5045 - val_accuracy: 0.7500\n",
            "Epoch 4/50\n",
            "675/675 [==============================] - 9s 14ms/step - loss: 0.4742 - accuracy: 0.7759 - val_loss: 0.4820 - val_accuracy: 0.7688\n",
            "Epoch 5/50\n",
            "675/675 [==============================] - 9s 14ms/step - loss: 0.4309 - accuracy: 0.7920 - val_loss: 0.4862 - val_accuracy: 0.7792\n",
            "Epoch 6/50\n",
            "675/675 [==============================] - 9s 14ms/step - loss: 0.3843 - accuracy: 0.8211 - val_loss: 0.4025 - val_accuracy: 0.8138\n",
            "Epoch 7/50\n",
            "675/675 [==============================] - 9s 14ms/step - loss: 0.3468 - accuracy: 0.8381 - val_loss: 0.4557 - val_accuracy: 0.8121\n",
            "Epoch 8/50\n",
            "675/675 [==============================] - 9s 14ms/step - loss: 0.3098 - accuracy: 0.8595 - val_loss: 0.3775 - val_accuracy: 0.8342\n",
            "Epoch 9/50\n",
            "675/675 [==============================] - 9s 14ms/step - loss: 0.2916 - accuracy: 0.8717 - val_loss: 0.3743 - val_accuracy: 0.8492\n",
            "Epoch 10/50\n",
            "675/675 [==============================] - 9s 14ms/step - loss: 0.2577 - accuracy: 0.8881 - val_loss: 0.4008 - val_accuracy: 0.8458\n",
            "Epoch 11/50\n",
            "675/675 [==============================] - 9s 14ms/step - loss: 0.2307 - accuracy: 0.8994 - val_loss: 0.3380 - val_accuracy: 0.8704\n",
            "Epoch 12/50\n",
            "675/675 [==============================] - 9s 14ms/step - loss: 0.2105 - accuracy: 0.9112 - val_loss: 0.3224 - val_accuracy: 0.8667\n",
            "Epoch 13/50\n",
            "675/675 [==============================] - 9s 14ms/step - loss: 0.1946 - accuracy: 0.9188 - val_loss: 0.3235 - val_accuracy: 0.8900\n",
            "Epoch 14/50\n",
            "675/675 [==============================] - 9s 14ms/step - loss: 0.1707 - accuracy: 0.9317 - val_loss: 0.3057 - val_accuracy: 0.8958\n",
            "Epoch 15/50\n",
            "675/675 [==============================] - 9s 14ms/step - loss: 0.1595 - accuracy: 0.9370 - val_loss: 0.3214 - val_accuracy: 0.8871\n",
            "Epoch 16/50\n",
            "675/675 [==============================] - 9s 14ms/step - loss: 0.1395 - accuracy: 0.9447 - val_loss: 0.3292 - val_accuracy: 0.8950\n",
            "Epoch 17/50\n",
            "675/675 [==============================] - 9s 14ms/step - loss: 0.1332 - accuracy: 0.9463 - val_loss: 0.3266 - val_accuracy: 0.8942\n",
            "Epoch 18/50\n",
            "675/675 [==============================] - 9s 14ms/step - loss: 0.1166 - accuracy: 0.9537 - val_loss: 0.3759 - val_accuracy: 0.8954\n",
            "Epoch 19/50\n",
            "675/675 [==============================] - 9s 14ms/step - loss: 0.1057 - accuracy: 0.9584 - val_loss: 0.3614 - val_accuracy: 0.8992\n",
            "Epoch 20/50\n",
            "675/675 [==============================] - 9s 14ms/step - loss: 0.1031 - accuracy: 0.9598 - val_loss: 0.3498 - val_accuracy: 0.9096\n",
            "Epoch 21/50\n",
            "675/675 [==============================] - 9s 14ms/step - loss: 0.0861 - accuracy: 0.9664 - val_loss: 0.3791 - val_accuracy: 0.9067\n",
            "Epoch 22/50\n",
            "675/675 [==============================] - 9s 14ms/step - loss: 0.0814 - accuracy: 0.9690 - val_loss: 0.3807 - val_accuracy: 0.9038\n",
            "Epoch 23/50\n",
            "675/675 [==============================] - 9s 14ms/step - loss: 0.0780 - accuracy: 0.9716 - val_loss: 0.3908 - val_accuracy: 0.9108\n",
            "Epoch 24/50\n",
            "675/675 [==============================] - 9s 14ms/step - loss: 0.0729 - accuracy: 0.9727 - val_loss: 0.3986 - val_accuracy: 0.9083\n",
            "Epoch 25/50\n",
            "675/675 [==============================] - 9s 14ms/step - loss: 0.0663 - accuracy: 0.9748 - val_loss: 0.5282 - val_accuracy: 0.8967\n",
            "Epoch 26/50\n",
            "675/675 [==============================] - 9s 14ms/step - loss: 0.0641 - accuracy: 0.9742 - val_loss: 0.4851 - val_accuracy: 0.9033\n",
            "Epoch 27/50\n",
            "675/675 [==============================] - 9s 14ms/step - loss: 0.0635 - accuracy: 0.9771 - val_loss: 0.4372 - val_accuracy: 0.9162\n",
            "Epoch 28/50\n",
            "675/675 [==============================] - 9s 14ms/step - loss: 0.0752 - accuracy: 0.9747 - val_loss: 0.3975 - val_accuracy: 0.9187\n",
            "Epoch 29/50\n",
            "675/675 [==============================] - 9s 14ms/step - loss: 0.0524 - accuracy: 0.9804 - val_loss: 0.4536 - val_accuracy: 0.9125\n",
            "Epoch 30/50\n",
            "675/675 [==============================] - 9s 14ms/step - loss: 0.0564 - accuracy: 0.9792 - val_loss: 0.4097 - val_accuracy: 0.9167\n",
            "Epoch 31/50\n",
            "675/675 [==============================] - 9s 14ms/step - loss: 0.0590 - accuracy: 0.9788 - val_loss: 0.4676 - val_accuracy: 0.9183\n",
            "Epoch 32/50\n",
            "675/675 [==============================] - 9s 14ms/step - loss: 0.0542 - accuracy: 0.9817 - val_loss: 0.4580 - val_accuracy: 0.9179\n",
            "Epoch 33/50\n",
            "675/675 [==============================] - 9s 14ms/step - loss: 0.0528 - accuracy: 0.9801 - val_loss: 0.6217 - val_accuracy: 0.9071\n",
            "Epoch 34/50\n",
            "675/675 [==============================] - 9s 14ms/step - loss: 0.0532 - accuracy: 0.9814 - val_loss: 0.4236 - val_accuracy: 0.9237\n",
            "Epoch 35/50\n",
            "675/675 [==============================] - 9s 14ms/step - loss: 0.0418 - accuracy: 0.9844 - val_loss: 0.4527 - val_accuracy: 0.9258\n",
            "Epoch 36/50\n",
            "675/675 [==============================] - 9s 14ms/step - loss: 0.0526 - accuracy: 0.9821 - val_loss: 0.5058 - val_accuracy: 0.9150\n",
            "Epoch 37/50\n",
            "675/675 [==============================] - 9s 14ms/step - loss: 0.0400 - accuracy: 0.9867 - val_loss: 0.4541 - val_accuracy: 0.9221\n",
            "Epoch 38/50\n",
            "675/675 [==============================] - 9s 14ms/step - loss: 0.0364 - accuracy: 0.9870 - val_loss: 0.5020 - val_accuracy: 0.9212\n",
            "Epoch 39/50\n",
            "675/675 [==============================] - 9s 14ms/step - loss: 0.0390 - accuracy: 0.9871 - val_loss: 0.5354 - val_accuracy: 0.9204\n",
            "Epoch 40/50\n",
            "675/675 [==============================] - 9s 14ms/step - loss: 0.0375 - accuracy: 0.9864 - val_loss: 0.5152 - val_accuracy: 0.9183\n",
            "Epoch 41/50\n",
            "675/675 [==============================] - 9s 14ms/step - loss: 0.0405 - accuracy: 0.9864 - val_loss: 0.5712 - val_accuracy: 0.9258\n",
            "Epoch 42/50\n",
            "675/675 [==============================] - 9s 14ms/step - loss: 0.0427 - accuracy: 0.9866 - val_loss: 0.5886 - val_accuracy: 0.9079\n",
            "Epoch 43/50\n",
            "675/675 [==============================] - 9s 14ms/step - loss: 0.0370 - accuracy: 0.9873 - val_loss: 0.4784 - val_accuracy: 0.9162\n",
            "Epoch 44/50\n",
            "675/675 [==============================] - 9s 14ms/step - loss: 0.0309 - accuracy: 0.9894 - val_loss: 0.5783 - val_accuracy: 0.9183\n",
            "Epoch 45/50\n",
            "675/675 [==============================] - 9s 14ms/step - loss: 0.0352 - accuracy: 0.9887 - val_loss: 0.6533 - val_accuracy: 0.9112\n",
            "Epoch 46/50\n",
            "675/675 [==============================] - 9s 14ms/step - loss: 0.0290 - accuracy: 0.9909 - val_loss: 0.4956 - val_accuracy: 0.9250\n",
            "Epoch 47/50\n",
            "675/675 [==============================] - 9s 14ms/step - loss: 0.0367 - accuracy: 0.9883 - val_loss: 0.5621 - val_accuracy: 0.9275\n",
            "Epoch 48/50\n",
            "675/675 [==============================] - 9s 14ms/step - loss: 0.0395 - accuracy: 0.9860 - val_loss: 0.6283 - val_accuracy: 0.9208\n",
            "Epoch 49/50\n",
            "675/675 [==============================] - 9s 14ms/step - loss: 0.0268 - accuracy: 0.9913 - val_loss: 0.5660 - val_accuracy: 0.9187\n",
            "Epoch 50/50\n",
            "675/675 [==============================] - 9s 14ms/step - loss: 0.0391 - accuracy: 0.9865 - val_loss: 0.6277 - val_accuracy: 0.9187\n",
            "188/188 [==============================] - 2s 8ms/step - loss: 0.7160 - accuracy: 0.9145\n",
            "loss: 0.7159531116485596\n",
            "accuracy: 0.9144999980926514\n"
          ],
          "name": "stdout"
        }
      ]
    }
  ]
}